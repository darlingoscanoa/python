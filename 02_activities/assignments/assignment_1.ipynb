{
 "cells": [
  {
   "cell_type": "markdown",
   "metadata": {},
   "source": [
    "# Assignment #1: Anagram Checker\n",
    "\n",
    "**Background**: Anagram Checker is a program that takes two words and determines if an anagram can be made from it. If so, the program will return `true`, otherwise `false`."
   ]
  },
  {
   "cell_type": "markdown",
   "metadata": {},
   "source": [
    "## Submission Information\n",
    "\n",
    "🚨 **Please review our [Assignment Submission Guide](https://github.com/UofT-DSI/onboarding/blob/main/onboarding_documents/submissions.md)** 🚨 for detailed instructions on how to format, branch, and submit your work. Following these guidelines is crucial for your submissions to be evaluated correctly.\n",
    "\n",
    "### Submission Parameters:\n",
    "* Submission Due Date: `11:59 PM - May 4, 2025`\n",
    "* The branch name for your repo should be: `assignment-1`\n",
    "* What to submit for this assignment:\n",
    "    * This Jupyter Notebook (assignment_1.ipynb) should be populated and should be the only change in your pull request.\n",
    "* What the pull request link should look like for this assignment: `https://github.com/<your_github_username>/python/pull/<pr_id>`\n",
    "    * Open a private window in your browser. Copy and paste the link to your pull request into the address bar. Make sure you can see your pull request properly. This helps the technical facilitator and learning support staff review your submission easily.\n",
    "\n",
    "Checklist:\n",
    "- [ ] Created a branch with the correct naming convention.\n",
    "- [ ] Ensured that the repository is public.\n",
    "- [ ] Reviewed the PR description guidelines and adhered to them.\n",
    "- [ ] Verify that the link is accessible in a private browser window.\n",
    "\n",
    "If you encounter any difficulties or have questions, please don't hesitate to reach out to our team via our Slack at `#dc-help`. Our Technical Facilitators and Learning Support staff are here to help you navigate any challenges."
   ]
  },
  {
   "cell_type": "markdown",
   "metadata": {},
   "source": [
    "### Part 1: Building the base Anagram Checker\n",
    "\n",
    "Given two valid strings, check to see if they are anagrams of each other. If it is, return `True`, else `False`. For this part, we can assume that uppercase letters are the same as if it was a lowercase character.\n",
    "\n",
    "Examples of anagrams:\n",
    "* Silent and Listen\n",
    "* Night and Think\n",
    "\n",
    "Example outputs:\n",
    "```python\n",
    "anagram_checker(\"Silent\", \"listen\") # True\n",
    "anagram_checker(\"Silent\", \"Night\") # False\n",
    "anagram_checker(\"night\", \"Thing\") # True\n",
    "```"
   ]
  },
  {
   "cell_type": "code",
   "execution_count": 72,
   "metadata": {},
   "outputs": [
    {
     "data": {
      "text/plain": [
       "3"
      ]
     },
     "execution_count": 72,
     "metadata": {},
     "output_type": "execute_result"
    }
   ],
   "source": [
    "#I will code a function that counts the number of times a letter appears in a word no case sensitive\n",
    "\n",
    "def count_letters_in_word_no_case(letter, word):\n",
    "  count = 0\n",
    "  for i in range(len(word)):\n",
    "    if word[i].lower() == letter.lower():\n",
    "      count += 1\n",
    "  return count\n",
    "\n",
    "count_letters_in_word_no_case(\"s\",\"sSsilent\")"
   ]
  },
  {
   "cell_type": "code",
   "execution_count": 73,
   "metadata": {},
   "outputs": [
    {
     "data": {
      "text/plain": [
       "True"
      ]
     },
     "execution_count": 73,
     "metadata": {},
     "output_type": "execute_result"
    }
   ],
   "source": [
    "\n",
    "# For testing purposes, we will write our code in the function\n",
    "def anagram_checker_no_case(word_a, word_b):\n",
    "  \"\"\"\n",
    "  This function check if two words are anagrams and not case sensitive.\n",
    "\n",
    "  Parameters:\n",
    "  word_a (str): The first word to be checked.\n",
    "  word_b (str): The second word to be checked.\n",
    "\n",
    "  Returns:\n",
    "  bool: True if the words are anagrams, False otherwise.\n",
    "  \"\"\"\n",
    "  # Anagrams must be the same length\n",
    "  if len(word_a) != len(word_b):\n",
    "    return False \n",
    "\n",
    "  # Now check if each unique letter appears the same number of times in both words \n",
    "  for letter in set(word_a.lower()):\n",
    "        if count_letters_in_word_no_case(letter, word_a) != count_letters_in_word_no_case(letter, word_b):\n",
    "            return False \n",
    "  return True \n",
    "\n",
    "# Run your code to check using the words below:\n",
    "anagram_checker_no_case(\"Silent\", \"listen\")"
   ]
  },
  {
   "cell_type": "code",
   "execution_count": 74,
   "metadata": {},
   "outputs": [
    {
     "data": {
      "text/plain": [
       "False"
      ]
     },
     "execution_count": 74,
     "metadata": {},
     "output_type": "execute_result"
    }
   ],
   "source": [
    "anagram_checker_no_case(\"Silent\", \"Night\")"
   ]
  },
  {
   "cell_type": "code",
   "execution_count": 75,
   "metadata": {},
   "outputs": [
    {
     "data": {
      "text/plain": [
       "True"
      ]
     },
     "execution_count": 75,
     "metadata": {},
     "output_type": "execute_result"
    }
   ],
   "source": [
    "anagram_checker_no_case(\"night\", \"Thing\")"
   ]
  },
  {
   "cell_type": "markdown",
   "metadata": {},
   "source": [
    "### Part 2: Expanding the functionality of the Anagram Checker\n",
    "\n",
    "Using your existing and functional anagram checker, let's add a boolean option called `is_case_sensitive`, which will return `True` or `False` based on if the two compared words are anagrams and if we are checking for case sensitivity."
   ]
  },
  {
   "cell_type": "code",
   "execution_count": 76,
   "metadata": {},
   "outputs": [
    {
     "data": {
      "text/plain": [
       "2"
      ]
     },
     "execution_count": 76,
     "metadata": {},
     "output_type": "execute_result"
    }
   ],
   "source": [
    "#Now, I will code a function that counts the number of times a letter appears in a word this time is case sensitive\n",
    "\n",
    "def count_letters_in_word_case(letter, word):\n",
    "  count = 0\n",
    "  for i in range(len(word)):\n",
    "    if word[i] == letter:\n",
    "      count += 1\n",
    "  return count\n",
    "\n",
    "count_letters_in_word_case(\"S\",\"sSsilentS\")"
   ]
  },
  {
   "cell_type": "code",
   "execution_count": 77,
   "metadata": {},
   "outputs": [
    {
     "data": {
      "text/plain": [
       "False"
      ]
     },
     "execution_count": 77,
     "metadata": {},
     "output_type": "execute_result"
    }
   ],
   "source": [
    "def anagram_checker_case(word_a, word_b):\n",
    "    \"\"\"\n",
    "    This function check if two words are anagrams of each other (case-sensitive).\n",
    " \n",
    "   Parameters:\n",
    "   word_a (str): The first word to be checked.\n",
    "   word_b (str): The second word to be checked.\n",
    " \n",
    "   Returns:\n",
    "   bool: True if the words are anagrams, False otherwise.\n",
    "    \"\"\"\n",
    "    # Anagrams must be the same length\n",
    "    if len(word_a) != len(word_b):\n",
    "        return False\n",
    "    # Lets combine unique letters from both words to ensure all are checked\n",
    "    letters = set(word_a) | set(word_b)\n",
    "    for letter in letters:\n",
    "        if count_letters_in_word_case(letter, word_a) != count_letters_in_word_case(letter, word_b):\n",
    "            return False\n",
    "    return True\n",
    "\n",
    "\n",
    "# Run your code to check using the words below:\n",
    "anagram_checker_case(\"Silent\", \"listen\")"
   ]
  },
  {
   "cell_type": "code",
   "execution_count": 78,
   "metadata": {},
   "outputs": [
    {
     "data": {
      "text/plain": [
       "True"
      ]
     },
     "execution_count": 78,
     "metadata": {},
     "output_type": "execute_result"
    }
   ],
   "source": [
    "anagram_checker_case(\"Silent\", \"tSilen\")"
   ]
  },
  {
   "cell_type": "code",
   "execution_count": 79,
   "metadata": {},
   "outputs": [
    {
     "data": {
      "text/plain": [
       "True"
      ]
     },
     "execution_count": 79,
     "metadata": {},
     "output_type": "execute_result"
    }
   ],
   "source": [
    "def anagram_checker(word_a, word_b, is_case_sensitive):\n",
    "    \"\"\"\n",
    "    Determines if two words are anagrams of each other.\n",
    "\n",
    "    Parameters:\n",
    "        word_a (str): The first word to compare.\n",
    "        word_b (str): The second word to compare.\n",
    "        is_case_sensitive (bool): \n",
    "            If True, comparison is case-sensitive ('A' != 'a').\n",
    "            If False, comparison is case-insensitive ('A' == 'a').\n",
    "\n",
    "    Returns:\n",
    "        bool: True if the words are anagrams according to the case sensitivity setting, otherwise False.\n",
    "\n",
    "    Examples:\n",
    "        >>> anagram_checker(\"Silent\", \"listen\", False)\n",
    "        True\n",
    "        >>> anagram_checker(\"Silent\", \"listen\", True)\n",
    "        False\n",
    "    \"\"\"\n",
    "    # Use the appropriate anagram checker based on case sensitivity\n",
    "    if is_case_sensitive == False:\n",
    "        return anagram_checker_no_case(word_a, word_b)\n",
    "    else:\n",
    "        return anagram_checker_case(word_a, word_b)\n",
    "\n",
    "# Run your code to check using the words below:\n",
    "anagram_checker(\"Silent\", \"listen\", False) # True\n",
    "\n",
    "\n",
    "\n"
   ]
  },
  {
   "cell_type": "code",
   "execution_count": 80,
   "metadata": {},
   "outputs": [
    {
     "data": {
      "text/plain": [
       "False"
      ]
     },
     "execution_count": 80,
     "metadata": {},
     "output_type": "execute_result"
    }
   ],
   "source": [
    "anagram_checker(\"Silent\", \"Listen\", True) # False"
   ]
  },
  {
   "cell_type": "markdown",
   "metadata": {},
   "source": [
    "|Criteria|Pass|Fail|\n",
    "|---|---|---|\n",
    "|Code Execution|All code cells execute without errors.|Any code cell produces an error upon execution.|\n",
    "|Code Quality|Code is well-organized, concise, and includes necessary comments for clarity. E.g. Great use of variable names.|Code is unorganized, verbose, or lacks necessary comments. E.g. Single character variable names outside of loops.|"
   ]
  }
 ],
 "metadata": {
  "kernelspec": {
   "display_name": "dsi_participant",
   "language": "python",
   "name": "python3"
  },
  "language_info": {
   "codemirror_mode": {
    "name": "ipython",
    "version": 3
   },
   "file_extension": ".py",
   "mimetype": "text/x-python",
   "name": "python",
   "nbconvert_exporter": "python",
   "pygments_lexer": "ipython3",
   "version": "3.9.15"
  }
 },
 "nbformat": 4,
 "nbformat_minor": 2
}
